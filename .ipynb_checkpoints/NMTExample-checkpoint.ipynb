{
 "cells": [
  {
   "cell_type": "code",
   "execution_count": 2,
   "id": "b87755b7",
   "metadata": {},
   "outputs": [],
   "source": [
    "import tensorflow as tf\n",
    "import numpy as np"
   ]
  },
  {
   "cell_type": "code",
   "execution_count": 7,
   "id": "ab917384",
   "metadata": {},
   "outputs": [],
   "source": [
    "from tensorflow.keras.models import Model\n",
    "from tensorflow.python.keras.layers import Input, Dense, GRU, Embedding, CuDNNGRU\n",
    "from tensorflow.keras.optimizers import RMSprop\n",
    "from tensorflow.python.keras.callbacks import ModelCheckpoint\n",
    "from tensorflow.python.keras.preprocessing.text import Tokenizer\n",
    "from tensorflow.python.keras.preprocessing.sequence import pad_sequences"
   ]
  },
  {
   "cell_type": "markdown",
   "id": "02ab955b",
   "metadata": {},
   "source": [
    "Şimdi başlangıç ve bitiş değerlerini verelim. Boşluk kullanımına dikkat edilmelidir."
   ]
  },
  {
   "cell_type": "code",
   "execution_count": 8,
   "id": "a6e0e99e",
   "metadata": {},
   "outputs": [],
   "source": [
    "mark_start = 'ssss '\n",
    "mark_end = ' eeee'"
   ]
  },
  {
   "cell_type": "markdown",
   "id": "b9064620",
   "metadata": {},
   "source": [
    "Şimdi encoder kısmına ingilizce decoder kısmına türkçe cümleler vereceğiz boş listeler oluşturmakla işe başlayalım. "
   ]
  },
  {
   "cell_type": "code",
   "execution_count": 9,
   "id": "73a00554",
   "metadata": {},
   "outputs": [],
   "source": [
    "data_src = []\n",
    "data_dest = []"
   ]
  },
  {
   "cell_type": "code",
   "execution_count": 11,
   "id": "0db77f16",
   "metadata": {},
   "outputs": [],
   "source": [
    "for line in open('tur.txt', encoding='UTF-8'):\n",
    "    en_text, tr_text = line.rstrip().split('\\t')\n",
    "    #rstrip cümlede gereksiz boşlukları siler\n",
    "    tr_text = mark_start + tr_text + mark_end\n",
    "    data_src.append(en_text)\n",
    "    data_dest.append(tr_text)"
   ]
  },
  {
   "cell_type": "markdown",
   "id": "438ae909",
   "metadata": {},
   "source": [
    "Cümleleri listeler içerisinde topladık. "
   ]
  },
  {
   "cell_type": "code",
   "execution_count": 14,
   "id": "c8aa558a",
   "metadata": {},
   "outputs": [
    {
     "data": {
      "text/plain": [
       "'How deep?'"
      ]
     },
     "execution_count": 14,
     "metadata": {},
     "output_type": "execute_result"
    }
   ],
   "source": [
    "data_src[200]"
   ]
  },
  {
   "cell_type": "code",
   "execution_count": 15,
   "id": "ba9bc44b",
   "metadata": {},
   "outputs": [
    {
     "data": {
      "text/plain": [
       "'ssss Ne kadar derin? eeee'"
      ]
     },
     "execution_count": 15,
     "metadata": {},
     "output_type": "execute_result"
    }
   ],
   "source": [
    "data_dest[200]"
   ]
  },
  {
   "cell_type": "code",
   "execution_count": 16,
   "id": "65d28afa",
   "metadata": {},
   "outputs": [
    {
     "data": {
      "text/plain": [
       "473035"
      ]
     },
     "execution_count": 16,
     "metadata": {},
     "output_type": "execute_result"
    }
   ],
   "source": [
    "len(data_src)"
   ]
  },
  {
   "cell_type": "markdown",
   "id": "adbe5d8d",
   "metadata": {},
   "source": [
    "Tokenleştirme işlemine başlayalım"
   ]
  },
  {
   "cell_type": "code",
   "execution_count": 17,
   "id": "0bcd73cf",
   "metadata": {},
   "outputs": [],
   "source": [
    "class TokenizerWrap(Tokenizer):\n",
    "    def __init__(self, texts, padding, reverse=False, num_words=None):\n",
    "        Tokenizer.__init__(self, num_words=num_words)\n",
    "        \n",
    "        self.fit_on_texts(texts)\n",
    "        \n",
    "        self.index_to_word = dict(zip(self.word_index.values(), self.word_index.keys()))\n",
    "        \n",
    "        self.tokens = self.texts_to_sequences(texts)\n",
    "        \n",
    "        if reverse:\n",
    "            self.tokens = [list(reversed(x)) for x in self.tokens]\n",
    "            truncating = 'pre'\n",
    "        else:\n",
    "            truncating = 'post'\n",
    "            \n",
    "        self.num_tokens = [len(x) for x in self.tokens]\n",
    "        self.max_tokens = np.mean(self.num_tokens) + 2 * np.std(self.num_tokens)\n",
    "        self.max_tokens = int(self.max_tokens)\n",
    "        \n",
    "        self.tokens_padded = pad_sequences(self.tokens,\n",
    "                                           maxlen=self.max_tokens,\n",
    "                                           padding=padding,\n",
    "                                           truncating=truncating)\n",
    "        \n",
    "    def token_to_word(self, token):\n",
    "        word = ' ' if token == 0 else self.index_to_word[token]\n",
    "        return word\n",
    "    \n",
    "    def tokens_to_string(self, tokens):\n",
    "        words = [self.index_to_word[token] for token in tokens if token != 0]\n",
    "        text = ' '.join(words)\n",
    "        return text\n",
    "    \n",
    "    def text_to_tokens(self, text, padding, reverse=False):\n",
    "        tokens = self.texts_to_sequences([text])\n",
    "        tokens = np.array(tokens)\n",
    "        \n",
    "        if reverse:\n",
    "            tokens = np.flip(tokens, axis=1)\n",
    "            truncating = 'pre'\n",
    "        else:\n",
    "            truncating = 'post'\n",
    "            \n",
    "        tokens = pad_sequences(tokens,\n",
    "                               maxlen=self.max_tokens,\n",
    "                               padding=padding,\n",
    "                               truncating=truncating)\n",
    "        \n",
    "        return tokens"
   ]
  },
  {
   "cell_type": "markdown",
   "id": "fced82d1",
   "metadata": {},
   "source": [
    "Tokenleştirme için bir sınıf oluşturduk. Şimdi ise tokenleştirme yapalım"
   ]
  },
  {
   "cell_type": "code",
   "execution_count": 18,
   "id": "eecf0590",
   "metadata": {},
   "outputs": [],
   "source": [
    "tokenizer_src = TokenizerWrap(texts=data_src,\n",
    "                              padding='pre',\n",
    "                              reverse=True,\n",
    "                              num_words=None)"
   ]
  },
  {
   "cell_type": "markdown",
   "id": "456c2169",
   "metadata": {},
   "source": [
    "Bu biraz zaman alabilir. Cümlenin başını korumak için ters çeviririz"
   ]
  },
  {
   "cell_type": "code",
   "execution_count": 19,
   "id": "b52e35ec",
   "metadata": {},
   "outputs": [],
   "source": [
    "tokenizer_dest = TokenizerWrap(texts=data_dest,\n",
    "                              padding='post',\n",
    "                              reverse=False,\n",
    "                              num_words=None)"
   ]
  },
  {
   "cell_type": "markdown",
   "id": "b82589ed",
   "metadata": {},
   "source": [
    "Şimdi ise türkçe cümleler için tokenleştirme yaptık."
   ]
  },
  {
   "cell_type": "code",
   "execution_count": 20,
   "id": "5aeb9bc7",
   "metadata": {},
   "outputs": [
    {
     "name": "stdout",
     "output_type": "stream",
     "text": [
      "(473035, 11)\n",
      "(473035, 10)\n"
     ]
    }
   ],
   "source": [
    "tokens_src = tokenizer_src.tokens_padded\n",
    "tokens_dest = tokenizer_dest.tokens_padded\n",
    "print(tokens_src.shape)\n",
    "print(tokens_dest.shape)"
   ]
  },
  {
   "cell_type": "markdown",
   "id": "56eb5d9b",
   "metadata": {},
   "source": [
    "Tokenleri daha sonra çağırmak için değişkenlere atadık. İngilizcede cümle daha fazla."
   ]
  },
  {
   "cell_type": "code",
   "execution_count": 21,
   "id": "b91e4f58",
   "metadata": {},
   "outputs": [
    {
     "data": {
      "text/plain": [
       "array([    1,     9, 14138,     2,     0,     0,     0,     0,     0,\n",
       "           0])"
      ]
     },
     "execution_count": 21,
     "metadata": {},
     "output_type": "execute_result"
    }
   ],
   "source": [
    "tokens_dest[30000]"
   ]
  },
  {
   "cell_type": "code",
   "execution_count": 22,
   "id": "606d774d",
   "metadata": {},
   "outputs": [
    {
     "data": {
      "text/plain": [
       "'ssss çok acıktım eeee'"
      ]
     },
     "execution_count": 22,
     "metadata": {},
     "output_type": "execute_result"
    }
   ],
   "source": [
    "tokenizer_dest.tokens_to_string(tokens_dest[30000])"
   ]
  },
  {
   "cell_type": "code",
   "execution_count": 23,
   "id": "cd2b6b1e",
   "metadata": {},
   "outputs": [
    {
     "data": {
      "text/plain": [
       "array([  0,   0,   0,   0,   0,   0,   0, 456,  48,  94,   3])"
      ]
     },
     "execution_count": 23,
     "metadata": {},
     "output_type": "execute_result"
    }
   ],
   "source": [
    "tokens_src[30000]"
   ]
  },
  {
   "cell_type": "code",
   "execution_count": 24,
   "id": "c07cf6a4",
   "metadata": {},
   "outputs": [
    {
     "data": {
      "text/plain": [
       "'tom do horseradish to'"
      ]
     },
     "execution_count": 24,
     "metadata": {},
     "output_type": "execute_result"
    }
   ],
   "source": [
    "tokenizer_src.tokens_to_string(tokens_dest[30000])"
   ]
  },
  {
   "cell_type": "markdown",
   "id": "aadc37a2",
   "metadata": {},
   "source": [
    "Cümlenin ters olduğu gözüküyor. Cümlenin sonundaki kelimeler kesilebilir."
   ]
  },
  {
   "cell_type": "code",
   "execution_count": 25,
   "id": "fbaedd0c",
   "metadata": {},
   "outputs": [],
   "source": [
    "encoder_input_data = tokens_src"
   ]
  },
  {
   "cell_type": "code",
   "execution_count": 26,
   "id": "b9a37240",
   "metadata": {},
   "outputs": [],
   "source": [
    "decoder_input_data = tokens_dest[:, :-1]\n",
    "decoder_output_data = tokens_dest[:, 1:]"
   ]
  },
  {
   "cell_type": "code",
   "execution_count": 27,
   "id": "dc863070",
   "metadata": {},
   "outputs": [
    {
     "data": {
      "text/plain": [
       "array([  0,   0,   0,   0,   0,   0,   0, 456,  48,  94,   3])"
      ]
     },
     "execution_count": 27,
     "metadata": {},
     "output_type": "execute_result"
    }
   ],
   "source": [
    "encoder_input_data[30000]"
   ]
  },
  {
   "cell_type": "code",
   "execution_count": 28,
   "id": "e7fe9e70",
   "metadata": {},
   "outputs": [
    {
     "data": {
      "text/plain": [
       "array([    1,     9, 14138,     2,     0,     0,     0,     0,     0])"
      ]
     },
     "execution_count": 28,
     "metadata": {},
     "output_type": "execute_result"
    }
   ],
   "source": [
    "decoder_input_data[30000]"
   ]
  },
  {
   "cell_type": "code",
   "execution_count": 29,
   "id": "86beff70",
   "metadata": {},
   "outputs": [
    {
     "data": {
      "text/plain": [
       "array([    9, 14138,     2,     0,     0,     0,     0,     0,     0])"
      ]
     },
     "execution_count": 29,
     "metadata": {},
     "output_type": "execute_result"
    }
   ],
   "source": [
    "decoder_output_data[30000]"
   ]
  },
  {
   "cell_type": "code",
   "execution_count": 30,
   "id": "b77df24b",
   "metadata": {},
   "outputs": [
    {
     "data": {
      "text/plain": [
       "'ssss çok acıktım eeee'"
      ]
     },
     "execution_count": 30,
     "metadata": {},
     "output_type": "execute_result"
    }
   ],
   "source": [
    "tokenizer_dest.tokens_to_string(decoder_input_data[30000])"
   ]
  },
  {
   "cell_type": "code",
   "execution_count": 31,
   "id": "4322c120",
   "metadata": {},
   "outputs": [
    {
     "data": {
      "text/plain": [
       "'çok acıktım eeee'"
      ]
     },
     "execution_count": 31,
     "metadata": {},
     "output_type": "execute_result"
    }
   ],
   "source": [
    "tokenizer_dest.tokens_to_string(decoder_output_data[30000])"
   ]
  },
  {
   "cell_type": "markdown",
   "id": "2f61737d",
   "metadata": {},
   "source": [
    "Input ve output görüyoruz. Üretilen değere göre loss değeri hesaplanacak"
   ]
  },
  {
   "cell_type": "code",
   "execution_count": 32,
   "id": "773913e3",
   "metadata": {},
   "outputs": [],
   "source": [
    "num_encoder_words = len(tokenizer_src.word_index)\n",
    "num_decoder_words = len(tokenizer_dest.word_index)"
   ]
  },
  {
   "cell_type": "code",
   "execution_count": 33,
   "id": "3aabec0b",
   "metadata": {},
   "outputs": [
    {
     "data": {
      "text/plain": [
       "21315"
      ]
     },
     "execution_count": 33,
     "metadata": {},
     "output_type": "execute_result"
    }
   ],
   "source": [
    "num_encoder_words"
   ]
  },
  {
   "cell_type": "markdown",
   "id": "b756236a",
   "metadata": {},
   "source": [
    "İngilizce kelimelerimiz. Şimdi türkçe kelimelere bakalım"
   ]
  },
  {
   "cell_type": "code",
   "execution_count": 34,
   "id": "ef5cef40",
   "metadata": {},
   "outputs": [
    {
     "data": {
      "text/plain": [
       "94058"
      ]
     },
     "execution_count": 34,
     "metadata": {},
     "output_type": "execute_result"
    }
   ],
   "source": [
    "num_decoder_words"
   ]
  },
  {
   "cell_type": "markdown",
   "id": "b563bc57",
   "metadata": {},
   "source": [
    "Türkçede eklerden dolayı daha fazla kelime vardır"
   ]
  },
  {
   "cell_type": "markdown",
   "id": "fcef7d49",
   "metadata": {},
   "source": [
    "Encoding için eğitime başlayalım. Glove vektörlerini kullanacağız"
   ]
  },
  {
   "cell_type": "code",
   "execution_count": 35,
   "id": "e119a410",
   "metadata": {},
   "outputs": [],
   "source": [
    "embedding_size = 100"
   ]
  },
  {
   "cell_type": "code",
   "execution_count": 36,
   "id": "d4c23883",
   "metadata": {},
   "outputs": [],
   "source": [
    "word2vec = {}\n",
    "with open('glove.6B.100d.txt', encoding='UTF-8') as f:\n",
    "    for line in f:\n",
    "        values = line.split()\n",
    "        word = values[0]\n",
    "        vec = np.asarray(values[1:], dtype='float32')\n",
    "        word2vec[word] = vec"
   ]
  },
  {
   "cell_type": "code",
   "execution_count": 37,
   "id": "f6608d26",
   "metadata": {},
   "outputs": [],
   "source": [
    "embedding_matrix = np.random.uniform(-1, 1, (num_encoder_words, embedding_size))\n",
    "for word, i in tokenizer_src.word_index.items():\n",
    "    if i < num_encoder_words:\n",
    "        embedding_vector = word2vec.get(word)\n",
    "        if embedding_vector is not None:\n",
    "            embedding_matrix[i] = embedding_vector"
   ]
  },
  {
   "cell_type": "code",
   "execution_count": 38,
   "id": "90f3f4e6",
   "metadata": {},
   "outputs": [
    {
     "data": {
      "text/plain": [
       "(21315, 100)"
      ]
     },
     "execution_count": 38,
     "metadata": {},
     "output_type": "execute_result"
    }
   ],
   "source": [
    "embedding_matrix.shape"
   ]
  },
  {
   "cell_type": "markdown",
   "id": "c6ce8c60",
   "metadata": {},
   "source": [
    "UTF-8 kullanmazsak türkçe kelimelerde sıkıntı çıkar. embedding ile rastegele sayılar, eğitilebilir değerlerdir."
   ]
  },
  {
   "cell_type": "code",
   "execution_count": 39,
   "id": "55b27e28",
   "metadata": {},
   "outputs": [],
   "source": [
    "encoder_input = Input(shape=(None,), name='encoder_input')"
   ]
  },
  {
   "cell_type": "markdown",
   "id": "2f556bf5",
   "metadata": {},
   "source": []
  }
 ],
 "metadata": {
  "kernelspec": {
   "display_name": "Python 3 (ipykernel)",
   "language": "python",
   "name": "python3"
  },
  "language_info": {
   "codemirror_mode": {
    "name": "ipython",
    "version": 3
   },
   "file_extension": ".py",
   "mimetype": "text/x-python",
   "name": "python",
   "nbconvert_exporter": "python",
   "pygments_lexer": "ipython3",
   "version": "3.8.8"
  }
 },
 "nbformat": 4,
 "nbformat_minor": 5
}
